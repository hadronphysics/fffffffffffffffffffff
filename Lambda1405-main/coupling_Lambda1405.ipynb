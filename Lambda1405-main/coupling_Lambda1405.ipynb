{
 "cells": [
  {
   "cell_type": "code",
   "execution_count": 420,
   "metadata": {},
   "outputs": [],
   "source": [
    "using DataFrames\n",
    "using CSV\n",
    "using PyPlot"
   ]
  },
  {
   "cell_type": "code",
   "execution_count": 421,
   "metadata": {},
   "outputs": [
    {
     "data": {
      "text/plain": [
       "lattice_params! (generic function with 1 method)"
      ]
     },
     "metadata": {},
     "output_type": "display_data"
    }
   ],
   "source": [
    "include(\"./src/coupling.jl\")\n",
    "include(\"./src/latt_para.jl\")"
   ]
  },
  {
   "cell_type": "markdown",
   "metadata": {},
   "source": [
    "# Physical setup"
   ]
  },
  {
   "cell_type": "code",
   "execution_count": 422,
   "metadata": {},
   "outputs": [],
   "source": [
    "function phy!()\n",
    "    # average mass of baryons unit: GeV\n",
    "    mN = (938.272 + 939.566) / 2\n",
    "    mΣ = (1189.37 + 1192.64 + 1197.45) / 3\n",
    "    mΛ = 1115.68\n",
    "    mΞ = (1314.8 + 1321.3) / 2\n",
    "\n",
    "    # average mass of mesons unit: MeV\n",
    "    mKbar = (493.68 + 497.65) / 2\n",
    "    mπ = (139.570 * 2 + 134.977) / 3\n",
    "    mK = mKbar\n",
    "    mη = 547.51\n",
    "    mch = [(mπ, mΣ), (mKbar, mN), (mη, mΛ), (mK, mΞ)]\n",
    "    decons = [93, 93, 93, 93] .* 1.15\n",
    "    threshold = [sum(mch[i]) for i in 1:4]\n",
    "    pp = Dict(\n",
    "        :mch => mch,\n",
    "        :decons_vec => decons,\n",
    "        :threshold => threshold\n",
    "    )\n",
    "    return pp\n",
    "end\n",
    "physetup = phy!()\n",
    "aphy = [-2, -1.84, -2.25, -2.52];"
   ]
  },
  {
   "cell_type": "code",
   "execution_count": 423,
   "metadata": {},
   "outputs": [
    {
     "data": {
      "text/plain": [
       "([1428.9069069147067, 13.760136753623309], [1396.653498965157, 74.23171485172188])"
      ]
     },
     "metadata": {},
     "output_type": "display_data"
    }
   ],
   "source": [
    "phypH = pole_LO!([1430e0, 10e0], physetup, aphy, n=4)\n",
    "phypL = pole_LO!([1390e0, 40e0], physetup, aphy, n=4)\n",
    "phypH, phypL"
   ]
  },
  {
   "cell_type": "code",
   "execution_count": 424,
   "metadata": {},
   "outputs": [
    {
     "data": {
      "text/html": [
       "<div><div style = \"float: left;\"><span>1×4 DataFrame</span></div><div style = \"clear: both;\"></div></div><div class = \"data-frame\" style = \"overflow-x: scroll;\"><table class = \"data-frame\" style = \"margin-bottom: 6px;\"><thead><tr class = \"header\"><th class = \"rowNumber\" style = \"font-weight: bold; text-align: right;\">Row</th><th style = \"text-align: left;\">gs11</th><th style = \"text-align: left;\">gs22</th><th style = \"text-align: left;\">gs33</th><th style = \"text-align: left;\">gs44</th></tr><tr class = \"subheader headerLastRow\"><th class = \"rowNumber\" style = \"font-weight: bold; text-align: right;\"></th><th title = \"Float64\" style = \"text-align: left;\">Float64</th><th title = \"Float64\" style = \"text-align: left;\">Float64</th><th title = \"Float64\" style = \"text-align: left;\">Float64</th><th title = \"Float64\" style = \"text-align: left;\">Float64</th></tr></thead><tbody><tr><td class = \"rowNumber\" style = \"font-weight: bold; text-align: right;\">1</td><td style = \"text-align: right;\">8.18866</td><td style = \"text-align: right;\">3.79248</td><td style = \"text-align: right;\">0.459575</td><td style = \"text-align: right;\">0.367381</td></tr></tbody></table></div>"
      ],
      "text/latex": [
       "\\begin{tabular}{r|cccc}\n",
       "\t& gs11 & gs22 & gs33 & gs44\\\\\n",
       "\t\\hline\n",
       "\t& Float64 & Float64 & Float64 & Float64\\\\\n",
       "\t\\hline\n",
       "\t1 & 8.18866 & 3.79248 & 0.459575 & 0.367381 \\\\\n",
       "\\end{tabular}\n"
      ],
      "text/plain": [
       "\u001b[1m1×4 DataFrame\u001b[0m\n",
       "\u001b[1m Row \u001b[0m│\u001b[1m gs11    \u001b[0m\u001b[1m gs22    \u001b[0m\u001b[1m gs33     \u001b[0m\u001b[1m gs44     \u001b[0m\n",
       "     │\u001b[90m Float64 \u001b[0m\u001b[90m Float64 \u001b[0m\u001b[90m Float64  \u001b[0m\u001b[90m Float64  \u001b[0m\n",
       "─────┼──────────────────────────────────────\n",
       "   1 │ 8.18866  3.79248  0.459575  0.367381"
      ]
     },
     "metadata": {},
     "output_type": "display_data"
    }
   ],
   "source": [
    "df_coupling_LO!(phypL, physetup, aphy, n=4)"
   ]
  },
  {
   "cell_type": "markdown",
   "metadata": {},
   "source": [
    "The coupling of higher pole coupled to 4 channels, respectively."
   ]
  },
  {
   "cell_type": "code",
   "execution_count": 425,
   "metadata": {},
   "outputs": [
    {
     "data": {
      "text/html": [
       "<div><div style = \"float: left;\"><span>1×4 DataFrame</span></div><div style = \"clear: both;\"></div></div><div class = \"data-frame\" style = \"overflow-x: scroll;\"><table class = \"data-frame\" style = \"margin-bottom: 6px;\"><thead><tr class = \"header\"><th class = \"rowNumber\" style = \"font-weight: bold; text-align: right;\">Row</th><th style = \"text-align: left;\">gs11</th><th style = \"text-align: left;\">gs22</th><th style = \"text-align: left;\">gs33</th><th style = \"text-align: left;\">gs44</th></tr><tr class = \"subheader headerLastRow\"><th class = \"rowNumber\" style = \"font-weight: bold; text-align: right;\"></th><th title = \"Float64\" style = \"text-align: left;\">Float64</th><th title = \"Float64\" style = \"text-align: left;\">Float64</th><th title = \"Float64\" style = \"text-align: left;\">Float64</th><th title = \"Float64\" style = \"text-align: left;\">Float64</th></tr></thead><tbody><tr><td class = \"rowNumber\" style = \"font-weight: bold; text-align: right;\">1</td><td style = \"text-align: right;\">1.83988</td><td style = \"text-align: right;\">6.52125</td><td style = \"text-align: right;\">1.70481</td><td style = \"text-align: right;\">0.0903532</td></tr></tbody></table></div>"
      ],
      "text/latex": [
       "\\begin{tabular}{r|cccc}\n",
       "\t& gs11 & gs22 & gs33 & gs44\\\\\n",
       "\t\\hline\n",
       "\t& Float64 & Float64 & Float64 & Float64\\\\\n",
       "\t\\hline\n",
       "\t1 & 1.83988 & 6.52125 & 1.70481 & 0.0903532 \\\\\n",
       "\\end{tabular}\n"
      ],
      "text/plain": [
       "\u001b[1m1×4 DataFrame\u001b[0m\n",
       "\u001b[1m Row \u001b[0m│\u001b[1m gs11    \u001b[0m\u001b[1m gs22    \u001b[0m\u001b[1m gs33    \u001b[0m\u001b[1m gs44      \u001b[0m\n",
       "     │\u001b[90m Float64 \u001b[0m\u001b[90m Float64 \u001b[0m\u001b[90m Float64 \u001b[0m\u001b[90m Float64   \u001b[0m\n",
       "─────┼──────────────────────────────────────\n",
       "   1 │ 1.83988  6.52125  1.70481  0.0903532"
      ]
     },
     "metadata": {},
     "output_type": "display_data"
    }
   ],
   "source": [
    "df_coupling_LO!(phypH, physetup, aphy, n=4)"
   ]
  },
  {
   "cell_type": "markdown",
   "metadata": {},
   "source": [
    "# Lattice setup"
   ]
  },
  {
   "cell_type": "code",
   "execution_count": 426,
   "metadata": {},
   "outputs": [],
   "source": [
    "latt_para = lattice_params!()\n",
    "params = copy(latt_para);"
   ]
  },
  {
   "cell_type": "code",
   "execution_count": 427,
   "metadata": {},
   "outputs": [
    {
     "data": {
      "text/plain": [
       "Dict{Symbol, Any} with 5 entries:\n",
       "  :m_meson    => (203.655, 486.366)\n",
       "  :threshold  => [1397.59, 1466.14, 1683.94, 1781.53]\n",
       "  :decons_vec => [106.947, 106.947, 106.947, 106.947]\n",
       "  :L          => 0.0205243\n",
       "  :mch        => [(203.655, 1193.94), (486.366, 979.777), (551.1, 1132.84), (48…"
      ]
     },
     "metadata": {},
     "output_type": "display_data"
    }
   ],
   "source": [
    "fitted_para = DataFrame(CSV.File(\"./out/fitted_para.csv\") )\n",
    "af2ch = fitted_para.para[1:2]\n",
    "fϕ = fitted_para.para[3]\n",
    "f = fitted_para.para[4]\n",
    "params[:decons_vec] = [fϕ, fϕ, fϕ, fϕ] .* f\n",
    "params"
   ]
  },
  {
   "cell_type": "markdown",
   "metadata": {},
   "source": [
    "Two poles in 2-coupled channel with hadrpn mass from lattice setup"
   ]
  },
  {
   "cell_type": "code",
   "execution_count": 428,
   "metadata": {},
   "outputs": [
    {
     "data": {
      "text/html": [
       "<div><div style = \"float: left;\"><span>2×4 DataFrame</span></div><div style = \"clear: both;\"></div></div><div class = \"data-frame\" style = \"overflow-x: scroll;\"><table class = \"data-frame\" style = \"margin-bottom: 6px;\"><thead><tr class = \"header\"><th class = \"rowNumber\" style = \"font-weight: bold; text-align: right;\">Row</th><th style = \"text-align: left;\">pH</th><th style = \"text-align: left;\">pH_lower_upper</th><th style = \"text-align: left;\">pL</th><th style = \"text-align: left;\">pL_lower_upper</th></tr><tr class = \"subheader headerLastRow\"><th class = \"rowNumber\" style = \"font-weight: bold; text-align: right;\"></th><th title = \"Float64\" style = \"text-align: left;\">Float64</th><th title = \"String\" style = \"text-align: left;\">String</th><th title = \"Float64\" style = \"text-align: left;\">Float64</th><th title = \"String\" style = \"text-align: left;\">String</th></tr></thead><tbody><tr><td class = \"rowNumber\" style = \"font-weight: bold; text-align: right;\">1</td><td style = \"text-align: right;\">1463.13</td><td style = \"text-align: left;\">(21.076521562710695, 17.55789502822131)</td><td style = \"text-align: right;\">1409.9</td><td style = \"text-align: left;\">(44.51012235524445, 9.077572444172802)</td></tr><tr><td class = \"rowNumber\" style = \"font-weight: bold; text-align: right;\">2</td><td style = \"text-align: right;\">17.5122</td><td style = \"text-align: left;\">(16.278629061908426, 16.823951650463254)</td><td style = \"text-align: right;\">56.789</td><td style = \"text-align: left;\">(56.788973124854216, 23.091262829504963)</td></tr></tbody></table></div>"
      ],
      "text/latex": [
       "\\begin{tabular}{r|cccc}\n",
       "\t& pH & pH\\_lower\\_upper & pL & pL\\_lower\\_upper\\\\\n",
       "\t\\hline\n",
       "\t& Float64 & String & Float64 & String\\\\\n",
       "\t\\hline\n",
       "\t1 & 1463.13 & (21.076521562710695, 17.55789502822131) & 1409.9 & (44.51012235524445, 9.077572444172802) \\\\\n",
       "\t2 & 17.5122 & (16.278629061908426, 16.823951650463254) & 56.789 & (56.788973124854216, 23.091262829504963) \\\\\n",
       "\\end{tabular}\n"
      ],
      "text/plain": [
       "\u001b[1m2×4 DataFrame\u001b[0m\n",
       "\u001b[1m Row \u001b[0m│\u001b[1m pH        \u001b[0m\u001b[1m pH_lower_upper                    \u001b[0m\u001b[1m pL       \u001b[0m\u001b[1m pL_lower_upper \u001b[0m ⋯\n",
       "     │\u001b[90m Float64   \u001b[0m\u001b[90m String                            \u001b[0m\u001b[90m Float64  \u001b[0m\u001b[90m String         \u001b[0m ⋯\n",
       "─────┼──────────────────────────────────────────────────────────────────────────\n",
       "   1 │ 1463.13    (21.076521562710695, 17.55789502…  1409.9    (44.51012235524 ⋯\n",
       "   2 │   17.5122  (16.278629061908426, 16.82395165…    56.789  (56.78897312485\n",
       "\u001b[36m                                                                1 column omitted\u001b[0m"
      ]
     },
     "metadata": {},
     "output_type": "display_data"
    }
   ],
   "source": [
    "p1405_2ch = DataFrame(CSV.File(\"./out/Lambda1405_error_band.csv\"))"
   ]
  },
  {
   "cell_type": "markdown",
   "metadata": {},
   "source": [
    "Coupling of two poles coupled to $\\pi\\Sigma$ and $\\bar{K}N$, respectively."
   ]
  },
  {
   "cell_type": "markdown",
   "metadata": {},
   "source": [
    "- Lower pole"
   ]
  },
  {
   "cell_type": "code",
   "execution_count": 429,
   "metadata": {},
   "outputs": [
    {
     "data": {
      "text/html": [
       "<div><div style = \"float: left;\"><span>1×2 DataFrame</span></div><div style = \"clear: both;\"></div></div><div class = \"data-frame\" style = \"overflow-x: scroll;\"><table class = \"data-frame\" style = \"margin-bottom: 6px;\"><thead><tr class = \"header\"><th class = \"rowNumber\" style = \"font-weight: bold; text-align: right;\">Row</th><th style = \"text-align: left;\">gs11</th><th style = \"text-align: left;\">gs22</th></tr><tr class = \"subheader headerLastRow\"><th class = \"rowNumber\" style = \"font-weight: bold; text-align: right;\"></th><th title = \"Float64\" style = \"text-align: left;\">Float64</th><th title = \"Float64\" style = \"text-align: left;\">Float64</th></tr></thead><tbody><tr><td class = \"rowNumber\" style = \"font-weight: bold; text-align: right;\">1</td><td style = \"text-align: right;\">10.1181</td><td style = \"text-align: right;\">5.80658</td></tr></tbody></table></div>"
      ],
      "text/latex": [
       "\\begin{tabular}{r|cc}\n",
       "\t& gs11 & gs22\\\\\n",
       "\t\\hline\n",
       "\t& Float64 & Float64\\\\\n",
       "\t\\hline\n",
       "\t1 & 10.1181 & 5.80658 \\\\\n",
       "\\end{tabular}\n"
      ],
      "text/plain": [
       "\u001b[1m1×2 DataFrame\u001b[0m\n",
       "\u001b[1m Row \u001b[0m│\u001b[1m gs11    \u001b[0m\u001b[1m gs22    \u001b[0m\n",
       "     │\u001b[90m Float64 \u001b[0m\u001b[90m Float64 \u001b[0m\n",
       "─────┼──────────────────\n",
       "   1 │ 10.1181  5.80658"
      ]
     },
     "metadata": {},
     "output_type": "display_data"
    }
   ],
   "source": [
    "df_coupling_LO!(p1405_2ch.pL, params, af2ch)"
   ]
  },
  {
   "cell_type": "markdown",
   "metadata": {},
   "source": [
    "- Higher pole"
   ]
  },
  {
   "cell_type": "code",
   "execution_count": 430,
   "metadata": {},
   "outputs": [
    {
     "data": {
      "text/html": [
       "<div><div style = \"float: left;\"><span>1×2 DataFrame</span></div><div style = \"clear: both;\"></div></div><div class = \"data-frame\" style = \"overflow-x: scroll;\"><table class = \"data-frame\" style = \"margin-bottom: 6px;\"><thead><tr class = \"header\"><th class = \"rowNumber\" style = \"font-weight: bold; text-align: right;\">Row</th><th style = \"text-align: left;\">gs11</th><th style = \"text-align: left;\">gs22</th></tr><tr class = \"subheader headerLastRow\"><th class = \"rowNumber\" style = \"font-weight: bold; text-align: right;\"></th><th title = \"Float64\" style = \"text-align: left;\">Float64</th><th title = \"Float64\" style = \"text-align: left;\">Float64</th></tr></thead><tbody><tr><td class = \"rowNumber\" style = \"font-weight: bold; text-align: right;\">1</td><td style = \"text-align: right;\">2.91414</td><td style = \"text-align: right;\">7.43438</td></tr></tbody></table></div>"
      ],
      "text/latex": [
       "\\begin{tabular}{r|cc}\n",
       "\t& gs11 & gs22\\\\\n",
       "\t\\hline\n",
       "\t& Float64 & Float64\\\\\n",
       "\t\\hline\n",
       "\t1 & 2.91414 & 7.43438 \\\\\n",
       "\\end{tabular}\n"
      ],
      "text/plain": [
       "\u001b[1m1×2 DataFrame\u001b[0m\n",
       "\u001b[1m Row \u001b[0m│\u001b[1m gs11    \u001b[0m\u001b[1m gs22    \u001b[0m\n",
       "     │\u001b[90m Float64 \u001b[0m\u001b[90m Float64 \u001b[0m\n",
       "─────┼──────────────────\n",
       "   1 │ 2.91414  7.43438"
      ]
     },
     "metadata": {},
     "output_type": "display_data"
    }
   ],
   "source": [
    "df_coupling_LO!(p1405_2ch.pH, params, af2ch)"
   ]
  },
  {
   "cell_type": "markdown",
   "metadata": {},
   "source": [
    "Two poles in 4-coupled channel scattering with hadron masses from lattice setup. The subtract costants of channel $\\pi\\Sigma$ and $\\bar{K}N$ are set to their natural values."
   ]
  },
  {
   "cell_type": "code",
   "execution_count": 431,
   "metadata": {},
   "outputs": [],
   "source": [
    "a4ch = [af2ch..., -2e0, -2e0];"
   ]
  },
  {
   "cell_type": "code",
   "execution_count": 432,
   "metadata": {},
   "outputs": [
    {
     "data": {
      "text/html": [
       "<div><div style = \"float: left;\"><span>2×4 DataFrame</span></div><div style = \"clear: both;\"></div></div><div class = \"data-frame\" style = \"overflow-x: scroll;\"><table class = \"data-frame\" style = \"margin-bottom: 6px;\"><thead><tr class = \"header\"><th class = \"rowNumber\" style = \"font-weight: bold; text-align: right;\">Row</th><th style = \"text-align: left;\">pH</th><th style = \"text-align: left;\">pH_lower_upper</th><th style = \"text-align: left;\">pL</th><th style = \"text-align: left;\">pL_lower_upper</th></tr><tr class = \"subheader headerLastRow\"><th class = \"rowNumber\" style = \"font-weight: bold; text-align: right;\"></th><th title = \"Float64\" style = \"text-align: left;\">Float64</th><th title = \"String\" style = \"text-align: left;\">String</th><th title = \"Float64\" style = \"text-align: left;\">Float64</th><th title = \"String\" style = \"text-align: left;\">String</th></tr></thead><tbody><tr><td class = \"rowNumber\" style = \"font-weight: bold; text-align: right;\">1</td><td style = \"text-align: right;\">1457.49</td><td style = \"text-align: left;\">(24.3944933775183, 20.38022336623544)</td><td style = \"text-align: right;\">1411.7</td><td style = \"text-align: left;\">(56.354936013300176, 10.141913798039468)</td></tr><tr><td class = \"rowNumber\" style = \"font-weight: bold; text-align: right;\">2</td><td style = \"text-align: right;\">18.2591</td><td style = \"text-align: left;\">(12.811770356194032, 18.319934679633413)</td><td style = \"text-align: right;\">58.7049</td><td style = \"text-align: left;\">(58.704925665729704, 23.426219108345606)</td></tr></tbody></table></div>"
      ],
      "text/latex": [
       "\\begin{tabular}{r|cccc}\n",
       "\t& pH & pH\\_lower\\_upper & pL & pL\\_lower\\_upper\\\\\n",
       "\t\\hline\n",
       "\t& Float64 & String & Float64 & String\\\\\n",
       "\t\\hline\n",
       "\t1 & 1457.49 & (24.3944933775183, 20.38022336623544) & 1411.7 & (56.354936013300176, 10.141913798039468) \\\\\n",
       "\t2 & 18.2591 & (12.811770356194032, 18.319934679633413) & 58.7049 & (58.704925665729704, 23.426219108345606) \\\\\n",
       "\\end{tabular}\n"
      ],
      "text/plain": [
       "\u001b[1m2×4 DataFrame\u001b[0m\n",
       "\u001b[1m Row \u001b[0m│\u001b[1m pH        \u001b[0m\u001b[1m pH_lower_upper                    \u001b[0m\u001b[1m pL        \u001b[0m\u001b[1m pL_lower_upper\u001b[0m ⋯\n",
       "     │\u001b[90m Float64   \u001b[0m\u001b[90m String                            \u001b[0m\u001b[90m Float64   \u001b[0m\u001b[90m String        \u001b[0m ⋯\n",
       "─────┼──────────────────────────────────────────────────────────────────────────\n",
       "   1 │ 1457.49    (24.3944933775183, 20.3802233662…  1411.7     (56.3549360133 ⋯\n",
       "   2 │   18.2591  (12.811770356194032, 18.31993467…    58.7049  (58.7049256657\n",
       "\u001b[36m                                                                1 column omitted\u001b[0m"
      ]
     },
     "metadata": {},
     "output_type": "display_data"
    }
   ],
   "source": [
    "p1405_4ch = DataFrame(CSV.File(\"./out/best_pole_LO_4ch_a_phy.csv\"))"
   ]
  },
  {
   "cell_type": "markdown",
   "metadata": {},
   "source": [
    "- Lower pole"
   ]
  },
  {
   "cell_type": "code",
   "execution_count": 433,
   "metadata": {},
   "outputs": [
    {
     "data": {
      "text/html": [
       "<div><div style = \"float: left;\"><span>1×4 DataFrame</span></div><div style = \"clear: both;\"></div></div><div class = \"data-frame\" style = \"overflow-x: scroll;\"><table class = \"data-frame\" style = \"margin-bottom: 6px;\"><thead><tr class = \"header\"><th class = \"rowNumber\" style = \"font-weight: bold; text-align: right;\">Row</th><th style = \"text-align: left;\">gs11</th><th style = \"text-align: left;\">gs22</th><th style = \"text-align: left;\">gs33</th><th style = \"text-align: left;\">gs44</th></tr><tr class = \"subheader headerLastRow\"><th class = \"rowNumber\" style = \"font-weight: bold; text-align: right;\"></th><th title = \"Float64\" style = \"text-align: left;\">Float64</th><th title = \"Float64\" style = \"text-align: left;\">Float64</th><th title = \"Float64\" style = \"text-align: left;\">Float64</th><th title = \"Float64\" style = \"text-align: left;\">Float64</th></tr></thead><tbody><tr><td class = \"rowNumber\" style = \"font-weight: bold; text-align: right;\">1</td><td style = \"text-align: right;\">10.5387</td><td style = \"text-align: right;\">5.85103</td><td style = \"text-align: right;\">0.653671</td><td style = \"text-align: right;\">0.431321</td></tr></tbody></table></div>"
      ],
      "text/latex": [
       "\\begin{tabular}{r|cccc}\n",
       "\t& gs11 & gs22 & gs33 & gs44\\\\\n",
       "\t\\hline\n",
       "\t& Float64 & Float64 & Float64 & Float64\\\\\n",
       "\t\\hline\n",
       "\t1 & 10.5387 & 5.85103 & 0.653671 & 0.431321 \\\\\n",
       "\\end{tabular}\n"
      ],
      "text/plain": [
       "\u001b[1m1×4 DataFrame\u001b[0m\n",
       "\u001b[1m Row \u001b[0m│\u001b[1m gs11    \u001b[0m\u001b[1m gs22    \u001b[0m\u001b[1m gs33     \u001b[0m\u001b[1m gs44     \u001b[0m\n",
       "     │\u001b[90m Float64 \u001b[0m\u001b[90m Float64 \u001b[0m\u001b[90m Float64  \u001b[0m\u001b[90m Float64  \u001b[0m\n",
       "─────┼──────────────────────────────────────\n",
       "   1 │ 10.5387  5.85103  0.653671  0.431321"
      ]
     },
     "metadata": {},
     "output_type": "display_data"
    }
   ],
   "source": [
    "df_coupling_LO!(p1405_4ch.pL, params, a4ch, n=4)"
   ]
  },
  {
   "cell_type": "markdown",
   "metadata": {},
   "source": [
    "- Higher pole"
   ]
  },
  {
   "cell_type": "code",
   "execution_count": 434,
   "metadata": {},
   "outputs": [
    {
     "data": {
      "text/html": [
       "<div><div style = \"float: left;\"><span>1×4 DataFrame</span></div><div style = \"clear: both;\"></div></div><div class = \"data-frame\" style = \"overflow-x: scroll;\"><table class = \"data-frame\" style = \"margin-bottom: 6px;\"><thead><tr class = \"header\"><th class = \"rowNumber\" style = \"font-weight: bold; text-align: right;\">Row</th><th style = \"text-align: left;\">gs11</th><th style = \"text-align: left;\">gs22</th><th style = \"text-align: left;\">gs33</th><th style = \"text-align: left;\">gs44</th></tr><tr class = \"subheader headerLastRow\"><th class = \"rowNumber\" style = \"font-weight: bold; text-align: right;\"></th><th title = \"Float64\" style = \"text-align: left;\">Float64</th><th title = \"Float64\" style = \"text-align: left;\">Float64</th><th title = \"Float64\" style = \"text-align: left;\">Float64</th><th title = \"Float64\" style = \"text-align: left;\">Float64</th></tr></thead><tbody><tr><td class = \"rowNumber\" style = \"font-weight: bold; text-align: right;\">1</td><td style = \"text-align: right;\">3.06409</td><td style = \"text-align: right;\">7.91722</td><td style = \"text-align: right;\">2.3849</td><td style = \"text-align: right;\">0.120044</td></tr></tbody></table></div>"
      ],
      "text/latex": [
       "\\begin{tabular}{r|cccc}\n",
       "\t& gs11 & gs22 & gs33 & gs44\\\\\n",
       "\t\\hline\n",
       "\t& Float64 & Float64 & Float64 & Float64\\\\\n",
       "\t\\hline\n",
       "\t1 & 3.06409 & 7.91722 & 2.3849 & 0.120044 \\\\\n",
       "\\end{tabular}\n"
      ],
      "text/plain": [
       "\u001b[1m1×4 DataFrame\u001b[0m\n",
       "\u001b[1m Row \u001b[0m│\u001b[1m gs11    \u001b[0m\u001b[1m gs22    \u001b[0m\u001b[1m gs33    \u001b[0m\u001b[1m gs44     \u001b[0m\n",
       "     │\u001b[90m Float64 \u001b[0m\u001b[90m Float64 \u001b[0m\u001b[90m Float64 \u001b[0m\u001b[90m Float64  \u001b[0m\n",
       "─────┼─────────────────────────────────────\n",
       "   1 │ 3.06409  7.91722   2.3849  0.120044"
      ]
     },
     "metadata": {},
     "output_type": "display_data"
    }
   ],
   "source": [
    "df = df_coupling_LO!(p1405_4ch.pH, params, a4ch, n=4)"
   ]
  },
  {
   "cell_type": "markdown",
   "metadata": {},
   "source": [
    "# Coupling within 1-$\\sigma$. Two-channel case"
   ]
  },
  {
   "cell_type": "code",
   "execution_count": 435,
   "metadata": {},
   "outputs": [],
   "source": [
    "fitted_para_1sigma = DataFrame(CSV.File(\"./out/resonable_1σ_fitted_params.csv\") );"
   ]
  },
  {
   "cell_type": "markdown",
   "metadata": {},
   "source": [
    "We calculate the $\\Lambda(1405)$ coupled to $\\pi\\Sigma$ and $\\bar{K}N$ within 1-$\\sigma$."
   ]
  },
  {
   "cell_type": "code",
   "execution_count": 436,
   "metadata": {},
   "outputs": [],
   "source": [
    "coupling_1sigma_LO!(params, fitted_para_1sigma)"
   ]
  },
  {
   "cell_type": "markdown",
   "metadata": {},
   "source": [
    "# Coupling with 1-$\\sigma$. Four-channel case"
   ]
  },
  {
   "cell_type": "markdown",
   "metadata": {},
   "source": [
    "We take the natural values of subtract constants for channel $\\eta\\Lambda$ and $K\\Xi$."
   ]
  },
  {
   "cell_type": "code",
   "execution_count": 439,
   "metadata": {},
   "outputs": [],
   "source": [
    "coupling_1sigma_LO!(params, fitted_para_1sigma, n=4, a34=[-2.25, -2.52])"
   ]
  }
 ],
 "metadata": {
  "kernelspec": {
   "display_name": "Julia 1.9.4",
   "language": "julia",
   "name": "julia-1.9"
  },
  "language_info": {
   "file_extension": ".jl",
   "mimetype": "application/julia",
   "name": "julia",
   "version": "1.9.4"
  }
 },
 "nbformat": 4,
 "nbformat_minor": 2
}
