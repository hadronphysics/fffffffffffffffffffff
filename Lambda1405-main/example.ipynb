{
 "cells": [
  {
   "cell_type": "code",
   "execution_count": 11,
   "metadata": {},
   "outputs": [],
   "source": [
    "import numpy as np\n",
    "import pandas as pd"
   ]
  },
  {
   "cell_type": "code",
   "execution_count": 12,
   "metadata": {},
   "outputs": [],
   "source": [
    "path = [\"./out/coupling/pH_coupling_1sigma_2ch_LO.csv\", \"./out/coupling/pL_coupling_1sigma_2ch_LO.csv\"]\n",
    "\n",
    "pH1sigma = pd.read_csv(path[0])\n",
    "#pH1sigma = pH1sigma[pH1sigma[\"gsqr11\"]<10]"
   ]
  },
  {
   "cell_type": "code",
   "execution_count": 13,
   "metadata": {},
   "outputs": [],
   "source": [
    "pL1sigma = pd.read_csv(path[1])\n",
    "#pL1sigma = pL1sigma[pL1sigma[\"gsqr11\"]<10]"
   ]
  },
  {
   "cell_type": "code",
   "execution_count": 14,
   "metadata": {},
   "outputs": [
    {
     "data": {
      "text/plain": [
       "repH      1480.025985\n",
       "impH        32.592169\n",
       "gsqr11       2.304751\n",
       "gsqr22       2.986325\n",
       "dtype: float64"
      ]
     },
     "execution_count": 14,
     "metadata": {},
     "output_type": "execute_result"
    }
   ],
   "source": [
    "pH1sigma.max()"
   ]
  },
  {
   "cell_type": "code",
   "execution_count": 15,
   "metadata": {},
   "outputs": [
    {
     "data": {
      "text/plain": [
       "repL      1417.087392\n",
       "impL        79.880236\n",
       "gsqr11       3.162068\n",
       "gsqr22       3.100398\n",
       "dtype: float64"
      ]
     },
     "execution_count": 15,
     "metadata": {},
     "output_type": "execute_result"
    }
   ],
   "source": [
    "pL1sigma.max()"
   ]
  }
 ],
 "metadata": {
  "kernelspec": {
   "display_name": "base",
   "language": "python",
   "name": "python3"
  },
  "language_info": {
   "codemirror_mode": {
    "name": "ipython",
    "version": 3
   },
   "file_extension": ".py",
   "mimetype": "text/x-python",
   "name": "python",
   "nbconvert_exporter": "python",
   "pygments_lexer": "ipython3",
   "version": "3.11.5"
  }
 },
 "nbformat": 4,
 "nbformat_minor": 2
}
